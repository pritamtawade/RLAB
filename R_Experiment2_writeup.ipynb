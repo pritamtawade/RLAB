{
  "nbformat": 4,
  "nbformat_minor": 0,
  "metadata": {
    "colab": {
      "name": "R_Experiment2_writeup.ipynb",
      "provenance": [],
      "collapsed_sections": [],
      "include_colab_link": true
    },
    "kernelspec": {
      "name": "ir",
      "display_name": "R"
    }
  },
  "cells": [
    {
      "cell_type": "markdown",
      "metadata": {
        "id": "view-in-github",
        "colab_type": "text"
      },
      "source": [
        "<a href=\"https://colab.research.google.com/github/pritamtawade/RLAB/blob/main/R_Experiment2_writeup.ipynb\" target=\"_parent\"><img src=\"https://colab.research.google.com/assets/colab-badge.svg\" alt=\"Open In Colab\"/></a>"
      ]
    },
    {
      "cell_type": "markdown",
      "metadata": {
        "id": "ID8ytqkhyQUI"
      },
      "source": [
        "\n",
        "**Vectors R Programming**\n",
        "\n",
        "The simplest and most common data structure in R is the vector. Vectors come in two different flavors: atomic vectors and lists. An atomic vector contains exactly one data type, whereas a list may contain multiple data types.\n",
        "\n",
        "Atomic vectors include logical, character, integer, and complex. Logical vectors can contain the values TRUE, FALSE, and NA (for 'not available').These values are generated as the result of logical 'conditions'.\n",
        "\n",
        "Complet following couple of code cell to genearate a logical vector in variable logic_vect\n"
      ]
    },
    {
      "cell_type": "code",
      "metadata": {
        "id": "vmxkWCwVaTsu",
        "colab": {
          "base_uri": "https://localhost:8080/",
          "height": 34
        },
        "outputId": "7774e303-e2bc-42f8-bc08-a163c8307e66"
      },
      "source": [
        "# Create a vector num_vect with values -100, 0.55, 45, 5466\n",
        "num_vect<-c(-100,0.55,45,5466)\n",
        "num_vect"
      ],
      "execution_count": null,
      "outputs": [
        {
          "output_type": "display_data",
          "data": {
            "text/plain": [
              "[1] -100.00    0.55   45.00 5466.00"
            ],
            "text/latex": "\\begin{enumerate*}\n\\item -100\n\\item 0.55\n\\item 45\n\\item 5466\n\\end{enumerate*}\n",
            "text/markdown": "1. -100\n2. 0.55\n3. 45\n4. 5466\n\n\n",
            "text/html": [
              "<style>\n",
              ".list-inline {list-style: none; margin:0; padding: 0}\n",
              ".list-inline>li {display: inline-block}\n",
              ".list-inline>li:not(:last-child)::after {content: \"\\00b7\"; padding: 0 .5ex}\n",
              "</style>\n",
              "<ol class=list-inline><li>-100</li><li>0.55</li><li>45</li><li>5466</li></ol>\n"
            ]
          },
          "metadata": {
            "tags": []
          }
        }
      ]
    },
    {
      "cell_type": "code",
      "metadata": {
        "id": "eB193NZhaTxX"
      },
      "source": [
        "#Now, create a variable called logic_vect that gets the result of num_vect <= 0.55, which is read as 'num_vect is less than 0.55'.\n"
      ],
      "execution_count": null,
      "outputs": []
    },
    {
      "cell_type": "markdown",
      "metadata": {
        "id": "Wjk_ipkRbIEQ"
      },
      "source": [
        "If you print logic_vect. you will see that is is a logical vector with 4 values. Print logic_vect in cell below to verify it "
      ]
    },
    {
      "cell_type": "code",
      "metadata": {
        "id": "daPof3CfbYJl"
      },
      "source": [
        "#print logic_vect"
      ],
      "execution_count": null,
      "outputs": []
    },
    {
      "cell_type": "code",
      "metadata": {
        "id": "ZJRGCFsRbluA"
      },
      "source": [
        "#Type num_vect >= 6 and note the output"
      ],
      "execution_count": null,
      "outputs": []
    },
    {
      "cell_type": "markdown",
      "metadata": {
        "id": "ykWXOe7kbbCH"
      },
      "source": [
        "Character vectors\n",
        "\n",
        "Character vectors are also very common in R. Double quotes are used to distinguish character objects."
      ]
    },
    {
      "cell_type": "code",
      "metadata": {
        "id": "Y5By5YrKcKLV"
      },
      "source": [
        "# Create a character vector that contains the following words: \"My\", \"name\", \"is\". \n",
        "#Remember to enclose each word in its own set of double quotes, \n",
        "#so that R knows they are character strings. Store the vector in a variable called char_vect.\n"
      ],
      "execution_count": null,
      "outputs": []
    },
    {
      "cell_type": "code",
      "metadata": {
        "id": "fCs9xH65dXqF"
      },
      "source": [
        "# print the char_vect"
      ],
      "execution_count": null,
      "outputs": []
    },
    {
      "cell_type": "code",
      "metadata": {
        "id": "wqFk1eWDdaej"
      },
      "source": [
        "#use paste(char_vect, collapse=\" \")\n"
      ],
      "execution_count": null,
      "outputs": []
    },
    {
      "cell_type": "markdown",
      "metadata": {
        "id": "U6zErBTNdkjS"
      },
      "source": [
        "Explain What difference you see in above two code blocks\n",
        "\n",
        " My explaination\n",
        " ss\n",
        " \n",
        " fsdfsd\n",
        " fsfd\n",
        " fsdf"
      ]
    },
    {
      "cell_type": "code",
      "metadata": {
        "id": "bb8VxwW6eq4I"
      },
      "source": [
        "# add your name as an element to char_vect and paste complete sentence saying \"My name is <your name>\"\n"
      ],
      "execution_count": null,
      "outputs": []
    },
    {
      "cell_type": "code",
      "metadata": {
        "id": "2On4I2KFffCo"
      },
      "source": [
        "#Execute this code block\n",
        "paste(\"Hello\",\"World!\",collapse=\" \")"
      ],
      "execution_count": null,
      "outputs": []
    },
    {
      "cell_type": "markdown",
      "metadata": {
        "id": "Ix0RGNhYfk5M"
      },
      "source": [
        "Explain output of code block above."
      ]
    },
    {
      "cell_type": "code",
      "metadata": {
        "id": "UG8NGPx4fq01"
      },
      "source": [
        "#Execute this \n",
        "paste(1:3, c(\"X\", \"Y\", \"Z\"), sep = \":\")"
      ],
      "execution_count": null,
      "outputs": []
    },
    {
      "cell_type": "markdown",
      "metadata": {
        "id": "WZburobtgHPL"
      },
      "source": [
        "Explain output of above code block"
      ]
    },
    {
      "cell_type": "code",
      "metadata": {
        "id": "dfigEt5CgidD"
      },
      "source": [
        "#Executes this LETTERS is \n",
        "paste(LETTERS, 1:10, sep = \"-\")"
      ],
      "execution_count": null,
      "outputs": []
    },
    {
      "cell_type": "markdown",
      "metadata": {
        "id": "zi6nXmiZp1Li"
      },
      "source": [
        "Explain output of above code block"
      ]
    },
    {
      "cell_type": "markdown",
      "metadata": {
        "id": "oaWD-k-4qNOV"
      },
      "source": [
        "**Write R code to Solve Following**\n",
        "1.   To begin with create a vecor **a** of 20 random values from Std Normal Variable.\n",
        "2.   Creat another vector **b** of 20 NA values. Also create vector x\n",
        "3.   Sample 20 values from above two vectors. \n",
        "4.   Subset  10th to 15th element from x to generate sample y\n",
        "5.   Count NAs in vector x and y         "
      ]
    },
    {
      "cell_type": "code",
      "metadata": {
        "id": "jFPLWLTttQFS",
        "colab": {
          "base_uri": "https://localhost:8080/",
          "height": 68
        },
        "outputId": "bf42b93e-f8b1-4726-ba80-3ae45cf7193f"
      },
      "source": [
        "# Create a Vector 'a' of 20 random values from Std Normal Variable.\n",
        "a <- rnorm(20)\n",
        "a"
      ],
      "execution_count": 1,
      "outputs": [
        {
          "output_type": "display_data",
          "data": {
            "text/plain": [
              " [1] -0.65110158  0.01009066  0.49241985 -0.25707295 -0.15408489  0.94842776\n",
              " [7]  1.33616972  1.22130840 -0.73409404  1.04260615  0.18805468 -0.21373030\n",
              "[13]  1.74697280  0.76602787  1.33367448 -0.41278689 -0.10058182  2.63326424\n",
              "[19]  0.77172872 -1.43300937"
            ],
            "text/latex": "\\begin{enumerate*}\n\\item -0.651101579512278\n\\item 0.0100906565371021\n\\item 0.492419848949755\n\\item -0.25707295272979\n\\item -0.154084891486171\n\\item 0.948427764543469\n\\item 1.33616971815278\n\\item 1.22130840031491\n\\item -0.734094035854513\n\\item 1.04260615245931\n\\item 0.188054681703113\n\\item -0.213730297152932\n\\item 1.74697280263516\n\\item 0.766027874542956\n\\item 1.3336744812739\n\\item -0.412786886417643\n\\item -0.100581816540964\n\\item 2.6332642354359\n\\item 0.77172871755918\n\\item -1.43300937136084\n\\end{enumerate*}\n",
            "text/markdown": "1. -0.651101579512278\n2. 0.0100906565371021\n3. 0.492419848949755\n4. -0.25707295272979\n5. -0.154084891486171\n6. 0.948427764543469\n7. 1.33616971815278\n8. 1.22130840031491\n9. -0.734094035854513\n10. 1.04260615245931\n11. 0.188054681703113\n12. -0.213730297152932\n13. 1.74697280263516\n14. 0.766027874542956\n15. 1.3336744812739\n16. -0.412786886417643\n17. -0.100581816540964\n18. 2.6332642354359\n19. 0.77172871755918\n20. -1.43300937136084\n\n\n",
            "text/html": [
              "<style>\n",
              ".list-inline {list-style: none; margin:0; padding: 0}\n",
              ".list-inline>li {display: inline-block}\n",
              ".list-inline>li:not(:last-child)::after {content: \"\\00b7\"; padding: 0 .5ex}\n",
              "</style>\n",
              "<ol class=list-inline><li>-0.651101579512278</li><li>0.0100906565371021</li><li>0.492419848949755</li><li>-0.25707295272979</li><li>-0.154084891486171</li><li>0.948427764543469</li><li>1.33616971815278</li><li>1.22130840031491</li><li>-0.734094035854513</li><li>1.04260615245931</li><li>0.188054681703113</li><li>-0.213730297152932</li><li>1.74697280263516</li><li>0.766027874542956</li><li>1.3336744812739</li><li>-0.412786886417643</li><li>-0.100581816540964</li><li>2.6332642354359</li><li>0.77172871755918</li><li>-1.43300937136084</li></ol>\n"
            ]
          },
          "metadata": {
            "tags": []
          }
        }
      ]
    },
    {
      "cell_type": "code",
      "metadata": {
        "id": "FVLkub50tPQ0",
        "colab": {
          "base_uri": "https://localhost:8080/",
          "height": 34
        },
        "outputId": "2254fd57-7a50-4ed7-c047-a9654c1809a1"
      },
      "source": [
        "# Create another vector b of 20 NA values. Also create vector x.\n",
        "b <- rep(NA, 20)\n",
        "b"
      ],
      "execution_count": 2,
      "outputs": [
        {
          "output_type": "display_data",
          "data": {
            "text/plain": [
              " [1] NA NA NA NA NA NA NA NA NA NA NA NA NA NA NA NA NA NA NA NA"
            ],
            "text/latex": "\\begin{enumerate*}\n\\item <NA>\n\\item <NA>\n\\item <NA>\n\\item <NA>\n\\item <NA>\n\\item <NA>\n\\item <NA>\n\\item <NA>\n\\item <NA>\n\\item <NA>\n\\item <NA>\n\\item <NA>\n\\item <NA>\n\\item <NA>\n\\item <NA>\n\\item <NA>\n\\item <NA>\n\\item <NA>\n\\item <NA>\n\\item <NA>\n\\end{enumerate*}\n",
            "text/markdown": "1. &lt;NA&gt;\n2. &lt;NA&gt;\n3. &lt;NA&gt;\n4. &lt;NA&gt;\n5. &lt;NA&gt;\n6. &lt;NA&gt;\n7. &lt;NA&gt;\n8. &lt;NA&gt;\n9. &lt;NA&gt;\n10. &lt;NA&gt;\n11. &lt;NA&gt;\n12. &lt;NA&gt;\n13. &lt;NA&gt;\n14. &lt;NA&gt;\n15. &lt;NA&gt;\n16. &lt;NA&gt;\n17. &lt;NA&gt;\n18. &lt;NA&gt;\n19. &lt;NA&gt;\n20. &lt;NA&gt;\n\n\n",
            "text/html": [
              "<style>\n",
              ".list-inline {list-style: none; margin:0; padding: 0}\n",
              ".list-inline>li {display: inline-block}\n",
              ".list-inline>li:not(:last-child)::after {content: \"\\00b7\"; padding: 0 .5ex}\n",
              "</style>\n",
              "<ol class=list-inline><li>&lt;NA&gt;</li><li>&lt;NA&gt;</li><li>&lt;NA&gt;</li><li>&lt;NA&gt;</li><li>&lt;NA&gt;</li><li>&lt;NA&gt;</li><li>&lt;NA&gt;</li><li>&lt;NA&gt;</li><li>&lt;NA&gt;</li><li>&lt;NA&gt;</li><li>&lt;NA&gt;</li><li>&lt;NA&gt;</li><li>&lt;NA&gt;</li><li>&lt;NA&gt;</li><li>&lt;NA&gt;</li><li>&lt;NA&gt;</li><li>&lt;NA&gt;</li><li>&lt;NA&gt;</li><li>&lt;NA&gt;</li><li>&lt;NA&gt;</li></ol>\n"
            ]
          },
          "metadata": {
            "tags": []
          }
        }
      ]
    },
    {
      "cell_type": "code",
      "metadata": {
        "id": "f-ZRGnsdvFGv",
        "colab": {
          "base_uri": "https://localhost:8080/",
          "height": 51
        },
        "outputId": "23acf203-ae55-4abf-e8e5-e52c74f77a6f"
      },
      "source": [
        "# Sample 20 values from above two vectors. \n",
        "x <- c(a,b)\n",
        "x <- sample(x, 20, replace=FALSE)\n",
        "x"
      ],
      "execution_count": 3,
      "outputs": [
        {
          "output_type": "display_data",
          "data": {
            "text/plain": [
              " [1]  1.7469728         NA         NA  0.7717287  0.7660279         NA\n",
              " [7] -0.1540849         NA -0.2570730  2.6332642 -0.1005818         NA\n",
              "[13] -0.4127869         NA  0.4924198  1.3336745         NA -0.7340940\n",
              "[19]         NA  0.9484278"
            ],
            "text/latex": "\\begin{enumerate*}\n\\item 1.74697280263516\n\\item <NA>\n\\item <NA>\n\\item 0.77172871755918\n\\item 0.766027874542956\n\\item <NA>\n\\item -0.154084891486171\n\\item <NA>\n\\item -0.25707295272979\n\\item 2.6332642354359\n\\item -0.100581816540964\n\\item <NA>\n\\item -0.412786886417643\n\\item <NA>\n\\item 0.492419848949755\n\\item 1.3336744812739\n\\item <NA>\n\\item -0.734094035854513\n\\item <NA>\n\\item 0.948427764543469\n\\end{enumerate*}\n",
            "text/markdown": "1. 1.74697280263516\n2. &lt;NA&gt;\n3. &lt;NA&gt;\n4. 0.77172871755918\n5. 0.766027874542956\n6. &lt;NA&gt;\n7. -0.154084891486171\n8. &lt;NA&gt;\n9. -0.25707295272979\n10. 2.6332642354359\n11. -0.100581816540964\n12. &lt;NA&gt;\n13. -0.412786886417643\n14. &lt;NA&gt;\n15. 0.492419848949755\n16. 1.3336744812739\n17. &lt;NA&gt;\n18. -0.734094035854513\n19. &lt;NA&gt;\n20. 0.948427764543469\n\n\n",
            "text/html": [
              "<style>\n",
              ".list-inline {list-style: none; margin:0; padding: 0}\n",
              ".list-inline>li {display: inline-block}\n",
              ".list-inline>li:not(:last-child)::after {content: \"\\00b7\"; padding: 0 .5ex}\n",
              "</style>\n",
              "<ol class=list-inline><li>1.74697280263516</li><li>&lt;NA&gt;</li><li>&lt;NA&gt;</li><li>0.77172871755918</li><li>0.766027874542956</li><li>&lt;NA&gt;</li><li>-0.154084891486171</li><li>&lt;NA&gt;</li><li>-0.25707295272979</li><li>2.6332642354359</li><li>-0.100581816540964</li><li>&lt;NA&gt;</li><li>-0.412786886417643</li><li>&lt;NA&gt;</li><li>0.492419848949755</li><li>1.3336744812739</li><li>&lt;NA&gt;</li><li>-0.734094035854513</li><li>&lt;NA&gt;</li><li>0.948427764543469</li></ol>\n"
            ]
          },
          "metadata": {
            "tags": []
          }
        }
      ]
    },
    {
      "cell_type": "code",
      "metadata": {
        "id": "wt7lpohAyaG7",
        "colab": {
          "base_uri": "https://localhost:8080/",
          "height": 34
        },
        "outputId": "bc8e2a36-37ce-471b-a019-922f9bcdda93"
      },
      "source": [
        "# Subset 10th to 15th element from x to generate sample y.\n",
        "y <- x[10:15]\n",
        "y"
      ],
      "execution_count": 4,
      "outputs": [
        {
          "output_type": "display_data",
          "data": {
            "text/plain": [
              "[1]  2.6332642 -0.1005818         NA -0.4127869         NA  0.4924198"
            ],
            "text/latex": "\\begin{enumerate*}\n\\item 2.6332642354359\n\\item -0.100581816540964\n\\item <NA>\n\\item -0.412786886417643\n\\item <NA>\n\\item 0.492419848949755\n\\end{enumerate*}\n",
            "text/markdown": "1. 2.6332642354359\n2. -0.100581816540964\n3. &lt;NA&gt;\n4. -0.412786886417643\n5. &lt;NA&gt;\n6. 0.492419848949755\n\n\n",
            "text/html": [
              "<style>\n",
              ".list-inline {list-style: none; margin:0; padding: 0}\n",
              ".list-inline>li {display: inline-block}\n",
              ".list-inline>li:not(:last-child)::after {content: \"\\00b7\"; padding: 0 .5ex}\n",
              "</style>\n",
              "<ol class=list-inline><li>2.6332642354359</li><li>-0.100581816540964</li><li>&lt;NA&gt;</li><li>-0.412786886417643</li><li>&lt;NA&gt;</li><li>0.492419848949755</li></ol>\n"
            ]
          },
          "metadata": {
            "tags": []
          }
        }
      ]
    },
    {
      "cell_type": "code",
      "metadata": {
        "id": "UK56iTQa0JbZ",
        "colab": {
          "base_uri": "https://localhost:8080/",
          "height": 51
        },
        "outputId": "2e54df33-6e61-490d-ff4a-bb80099dff11"
      },
      "source": [
        "# Count NAs in vector x and y. \n",
        "sum(is.na(x))\n",
        "sum(is.na(y))"
      ],
      "execution_count": 5,
      "outputs": [
        {
          "output_type": "display_data",
          "data": {
            "text/plain": [
              "[1] 8"
            ],
            "text/latex": "8",
            "text/markdown": "8",
            "text/html": [
              "8"
            ]
          },
          "metadata": {
            "tags": []
          }
        },
        {
          "output_type": "display_data",
          "data": {
            "text/plain": [
              "[1] 2"
            ],
            "text/latex": "2",
            "text/markdown": "2",
            "text/html": [
              "2"
            ]
          },
          "metadata": {
            "tags": []
          }
        }
      ]
    },
    {
      "cell_type": "code",
      "metadata": {
        "id": "bddWV0ti1MlO"
      },
      "source": [
        ""
      ],
      "execution_count": null,
      "outputs": []
    }
  ]
}